{
 "cells": [
  {
   "cell_type": "code",
   "execution_count": 2,
   "metadata": {},
   "outputs": [],
   "source": [
    "from utils.database import Postgres\n",
    "import os\n",
    "from utils.models import User\n",
    "from dotenv import load_dotenv\n",
    "\n",
    "load_dotenv()\n",
    "\n",
    "# Create an instance of the Postgres class\n",
    "postgress = Postgres(uri=os.getenv(\"POSTGRES_URI\"), database=os.getenv(\"POSTGRES_DATABASE\"))\n"
   ]
  },
  {
   "cell_type": "code",
   "execution_count": 14,
   "metadata": {},
   "outputs": [
    {
     "data": {
      "text/plain": [
       "{'name': 'Dhr',\n",
       " 'email': 'dhr1@gmail.com',\n",
       " 'gender': 'Male',\n",
       " 'age': 20,\n",
       " 'weight': 60.0,\n",
       " 'height': 200,\n",
       " 'goal': 'Stay Fit',\n",
       " 'activity_level': 'Pro'}"
      ]
     },
     "execution_count": 14,
     "metadata": {},
     "output_type": "execute_result"
    }
   ],
   "source": [
    "user = User(email='dhr1@gmail.com', password='123456789')\n",
    "postgress.cursor.execute(f\"SELECT * FROM users WHERE email='{user.email}'\")\n",
    "user.name, user.email, user.password_hash, user.salt, user.gender, user.age, user.weight, user.height, user.goal, user.activity_level, user.joined = postgress.cursor.fetchone()\n",
    "\n",
    "user.model_dump(exclude={'password', 'password_hash', 'salt', 'joined'})\n",
    "# user.model_dump()\n",
    "# type(user.joined.strftime(\"%Y-%m-%d\"))\n"
   ]
  },
  {
   "cell_type": "code",
   "execution_count": 34,
   "metadata": {},
   "outputs": [
    {
     "name": "stdout",
     "output_type": "stream",
     "text": [
      "$$ mai hu error $$\n"
     ]
    }
   ],
   "source": [
    "from pydantic import BaseModel, field_validator, ValidationError\n",
    "\n",
    "class User(BaseModel):\n",
    "    name: str\n",
    "\n",
    "    @field_validator('name')\n",
    "    def name_must_contain_space(cls, v):\n",
    "        raise ValueError('$$ mai hu error $$')\n",
    "\n",
    "    @classmethod\n",
    "    def get_error_message(cls, exc: ValidationError) -> str:\n",
    "        for error in exc.errors():\n",
    "            if error['type'] == 'value_error':\n",
    "                error_msg = error['msg']\n",
    "                if error_msg.startswith('Value error, '):\n",
    "                    return error_msg[len('Value error, '):]\n",
    "                return error_msg\n",
    "        return ''\n",
    "\n",
    "try:\n",
    "    user = User(name='John ')\n",
    "except ValidationError as e:\n",
    "    print(User.get_error_message(e))\n"
   ]
  },
  {
   "cell_type": "code",
   "execution_count": 19,
   "metadata": {},
   "outputs": [
    {
     "name": "stdout",
     "output_type": "stream",
     "text": [
      "['from pydantic import BaseModel, field_validator, ValidationError\\n', 'import re\\n', 'import datetime\\n', '\\n', 'class User(BaseModel):\\n', '    name: str = None\\n', '    email: str\\n', '    password: str\\n', '    password_hash: bytes = None\\n', '    salt: bytes = None\\n', '    gender: str = None\\n', '    age: int = None\\n', '    weight: float = None\\n', '    height: int = None\\n', '    goal: str = None\\n', '    activity_level: str = None\\n', '    joining_date: str = None\\n', '    \\n', \"    @field_validator('name')\\n\", '    def validate_name(cls, name: str):\\n', '        if len(name) < 3:\\n', '            raise ValueError(\"Name must be at least 3 characters\")\\n', '        return name.title()\\n', '    \\n', \"    @field_validator('email')\\n\", '    def validate_email(cls, email: str):\\n', '        if not re.match(r\"[^@]+@[^@]+\\\\.[^@]+\", email):\\n', '            raise ValueError(\"Invalid email address\")\\n', '        return email\\n', '    \\n', \"    @field_validator('password')\\n\", '    def validate_password(cls, password: str):\\n', '        if len(password) < 8:\\n', '            raise ValueError(\"Invalid Password Size must be at least 8 characters\")\\n', '        return password\\n', '    \\n', \"    @field_validator('gender')\\n\", '    def validate_gender(cls, gender: str):\\n', \"        if not gender.title() in ['Male', 'Female']:\\n\", '            raise ValueError(\"Gender must be `Male` or `Female`\")\\n', '        return gender.title()\\n', '    \\n', \"    @field_validator('age')\\n\", '    def validate_age(cls, age: int):\\n', '        if age < 18:\\n', '            raise ValueError(\"Age must be at least 18\")\\n', '        if age > 80:\\n', '            raise ValueError(\"Age must be at most 80\")\\n', '        return age\\n', '    \\n', \"    @field_validator('weight')\\n\", '    def validate_weight(cls, weight: float):\\n', '        if weight < 40:\\n', '            raise ValueError(\"Weight must be at least 40 kg\")\\n', '        if weight > 200:\\n', '            raise ValueError(\"Weight must be at most 200 kg\")\\n', '        return weight\\n', '    \\n', \"    @field_validator('height')\\n\", '    def validate_height(cls, height: int):\\n', '        if height < 140:\\n', '            raise ValueError(\"Height must be at least 140 cm\")\\n', '        if height > 220:\\n', '            raise ValueError(\"Height must be at most 220 cm\")\\n', '        return height\\n', '    \\n', \"    @field_validator('goal')\\n\", '    def validate_goal(cls, goal: str):\\n', \"        if not goal.title() in ['Lose Weight', 'Gain Weight', 'Build Muscle', 'Stay Fit', 'Improve Endurance', 'Stay Healthy']:\\n\", '            raise ValueError(\"Goal must be `Lose Weight`, `Gain Weight`, `Build Muscle`, `Stay Fit`, `Improve Endurance`, or `Stay Healthy`\")\\n', '        return goal.title()\\n', '    \\n', \"    @field_validator('activity_level')\\n\", '    def validate_activity_level(cls, activity_level: str):\\n', \"        if not activity_level.title() in ['Rookie', 'Beginner', 'Intermediate', 'Advanced', 'Pro']:\\n\", '            raise ValueError(\"Activity level must be `Rookie`, `Beginner`, `Intermediate`, `Advanced`, or `Pro`\")\\n', '        return activity_level.title()\\n', '\\n', \"    @field_validator('joining_date')\\n\", '    def validate_joining_date(cls, joining_date: datetime.datetime):\\n', '        if joining_date:\\n', '            return joining_date.strftime(\"%Y-%m-%d\")\\n', '        else:\\n', '            return None\\n', '    \\n', '    @classmethod\\n', '    def get_error_message(cls, exc: ValidationError) -> str:\\n', '        for error in exc.errors():\\n', \"            if error['type'] == 'value_error':\\n\", \"                error_msg = error['msg']\\n\", \"                if error_msg.startswith('Value error, '):\\n\", \"                    return error_msg[len('Value error, '):]\\n\", '                return error_msg\\n', \"        return ''\"]\n"
     ]
    }
   ],
   "source": [
    "with open('utils/models.py', 'r') as f:\n",
    "    print(f.readlines())\n"
   ]
  }
 ],
 "metadata": {
  "kernelspec": {
   "display_name": "sparksearch",
   "language": "python",
   "name": "python3"
  },
  "language_info": {
   "codemirror_mode": {
    "name": "ipython",
    "version": 3
   },
   "file_extension": ".py",
   "mimetype": "text/x-python",
   "name": "python",
   "nbconvert_exporter": "python",
   "pygments_lexer": "ipython3",
   "version": "3.11.8"
  }
 },
 "nbformat": 4,
 "nbformat_minor": 2
}
